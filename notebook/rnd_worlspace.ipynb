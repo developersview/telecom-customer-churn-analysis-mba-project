{
 "cells": [
  {
   "cell_type": "code",
   "execution_count": 1,
   "metadata": {},
   "outputs": [],
   "source": [
    "import statsmodels.api as  sm\n",
    "from sklearn.datasets import load_iris\n",
    "import numpy as np"
   ]
  },
  {
   "cell_type": "code",
   "execution_count": 2,
   "metadata": {},
   "outputs": [
    {
     "name": "stdout",
     "output_type": "stream",
     "text": [
      "                 Generalized Linear Model Regression Results                  \n",
      "==============================================================================\n",
      "Dep. Variable:                      y   No. Observations:                  150\n",
      "Model:                            GLM   Df Residuals:                      147\n",
      "Model Family:                Gaussian   Df Model:                            2\n",
      "Link Function:               Identity   Scale:                         0.41794\n",
      "Method:                          IRLS   Log-Likelihood:                -145.89\n",
      "Date:                Sat, 15 Mar 2025   Deviance:                       61.437\n",
      "Time:                        19:34:31   Pearson chi2:                     61.4\n",
      "No. Iterations:                     3   Pseudo R-squ. (CS):             0.9984\n",
      "Covariance Type:            nonrobust                                         \n",
      "==============================================================================\n",
      "                 coef    std err          z      P>|z|      [0.025      0.975]\n",
      "------------------------------------------------------------------------------\n",
      "const         -2.5248      0.563     -4.481      0.000      -3.629      -1.420\n",
      "x1             1.7756      0.064     27.569      0.000       1.649       1.902\n",
      "x2            -1.3386      0.122    -10.940      0.000      -1.578      -1.099\n",
      "==============================================================================\n"
     ]
    }
   ],
   "source": [
    "iris = load_iris()\n",
    "x = iris.data[:,[0,1]]\n",
    "y = iris.data[:, 2]\n",
    "\n",
    "x = sm.add_constant(x)\n",
    "\n",
    "model = sm.GLM(endog=y, exog=x, family=sm.families.Gaussian())\n",
    "results = model.fit()\n",
    "\n",
    "print(results.summary())"
   ]
  },
  {
   "cell_type": "code",
   "execution_count": 4,
   "metadata": {},
   "outputs": [
    {
     "name": "stdout",
     "output_type": "stream",
     "text": [
      "Predicted petal length: 0.32939642124679924\n"
     ]
    }
   ],
   "source": [
    "new_flower = np.array([1, 5.0, 4.5])\n",
    "new_flower.reshape(1, -1)\n",
    "prediction = results.predict(new_flower)\n",
    "print(f\"Predicted petal length: {prediction[0]}\")"
   ]
  },
  {
   "cell_type": "code",
   "execution_count": null,
   "metadata": {},
   "outputs": [],
   "source": []
  }
 ],
 "metadata": {
  "kernelspec": {
   "display_name": "base",
   "language": "python",
   "name": "python3"
  },
  "language_info": {
   "codemirror_mode": {
    "name": "ipython",
    "version": 3
   },
   "file_extension": ".py",
   "mimetype": "text/x-python",
   "name": "python",
   "nbconvert_exporter": "python",
   "pygments_lexer": "ipython3",
   "version": "3.12.3"
  }
 },
 "nbformat": 4,
 "nbformat_minor": 2
}
